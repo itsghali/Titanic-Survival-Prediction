{
 "cells": [
  {
   "cell_type": "code",
   "execution_count": 163,
   "id": "6b3b4e16-eab9-4352-9a8c-f7bb72b71c12",
   "metadata": {},
   "outputs": [],
   "source": [
    "import pandas as pd\n",
    "import numpy as np\n",
    "import matplotlib.pyplot as plt\n",
    "from sklearn.preprocessing import StandardScaler\n",
    "from sklearn.metrics import classification_report\n",
    "from sklearn.linear_model import LogisticRegression\n",
    "from sklearn.svm import SVC\n",
    "from sklearn.tree import DecisionTreeClassifier\n",
    "from sklearn.model_selection import train_test_split"
   ]
  },
  {
   "cell_type": "code",
   "execution_count": 164,
   "id": "cfce4bcd-e65f-41f5-8e15-d572741bef8e",
   "metadata": {},
   "outputs": [
    {
     "data": {
      "text/html": [
       "<div>\n",
       "<style scoped>\n",
       "    .dataframe tbody tr th:only-of-type {\n",
       "        vertical-align: middle;\n",
       "    }\n",
       "\n",
       "    .dataframe tbody tr th {\n",
       "        vertical-align: top;\n",
       "    }\n",
       "\n",
       "    .dataframe thead th {\n",
       "        text-align: right;\n",
       "    }\n",
       "</style>\n",
       "<table border=\"1\" class=\"dataframe\">\n",
       "  <thead>\n",
       "    <tr style=\"text-align: right;\">\n",
       "      <th></th>\n",
       "      <th>PassengerId</th>\n",
       "      <th>Survived</th>\n",
       "      <th>Pclass</th>\n",
       "      <th>Name</th>\n",
       "      <th>Sex</th>\n",
       "      <th>Age</th>\n",
       "      <th>SibSp</th>\n",
       "      <th>Parch</th>\n",
       "      <th>Ticket</th>\n",
       "      <th>Fare</th>\n",
       "      <th>Cabin</th>\n",
       "      <th>Embarked</th>\n",
       "    </tr>\n",
       "  </thead>\n",
       "  <tbody>\n",
       "    <tr>\n",
       "      <th>0</th>\n",
       "      <td>1</td>\n",
       "      <td>0</td>\n",
       "      <td>3</td>\n",
       "      <td>Braund, Mr. Owen Harris</td>\n",
       "      <td>male</td>\n",
       "      <td>22.0</td>\n",
       "      <td>1</td>\n",
       "      <td>0</td>\n",
       "      <td>A/5 21171</td>\n",
       "      <td>7.2500</td>\n",
       "      <td>NaN</td>\n",
       "      <td>S</td>\n",
       "    </tr>\n",
       "    <tr>\n",
       "      <th>1</th>\n",
       "      <td>2</td>\n",
       "      <td>1</td>\n",
       "      <td>1</td>\n",
       "      <td>Cumings, Mrs. John Bradley (Florence Briggs Th...</td>\n",
       "      <td>female</td>\n",
       "      <td>38.0</td>\n",
       "      <td>1</td>\n",
       "      <td>0</td>\n",
       "      <td>PC 17599</td>\n",
       "      <td>71.2833</td>\n",
       "      <td>C85</td>\n",
       "      <td>C</td>\n",
       "    </tr>\n",
       "    <tr>\n",
       "      <th>2</th>\n",
       "      <td>3</td>\n",
       "      <td>1</td>\n",
       "      <td>3</td>\n",
       "      <td>Heikkinen, Miss. Laina</td>\n",
       "      <td>female</td>\n",
       "      <td>26.0</td>\n",
       "      <td>0</td>\n",
       "      <td>0</td>\n",
       "      <td>STON/O2. 3101282</td>\n",
       "      <td>7.9250</td>\n",
       "      <td>NaN</td>\n",
       "      <td>S</td>\n",
       "    </tr>\n",
       "    <tr>\n",
       "      <th>3</th>\n",
       "      <td>4</td>\n",
       "      <td>1</td>\n",
       "      <td>1</td>\n",
       "      <td>Futrelle, Mrs. Jacques Heath (Lily May Peel)</td>\n",
       "      <td>female</td>\n",
       "      <td>35.0</td>\n",
       "      <td>1</td>\n",
       "      <td>0</td>\n",
       "      <td>113803</td>\n",
       "      <td>53.1000</td>\n",
       "      <td>C123</td>\n",
       "      <td>S</td>\n",
       "    </tr>\n",
       "    <tr>\n",
       "      <th>4</th>\n",
       "      <td>5</td>\n",
       "      <td>0</td>\n",
       "      <td>3</td>\n",
       "      <td>Allen, Mr. William Henry</td>\n",
       "      <td>male</td>\n",
       "      <td>35.0</td>\n",
       "      <td>0</td>\n",
       "      <td>0</td>\n",
       "      <td>373450</td>\n",
       "      <td>8.0500</td>\n",
       "      <td>NaN</td>\n",
       "      <td>S</td>\n",
       "    </tr>\n",
       "  </tbody>\n",
       "</table>\n",
       "</div>"
      ],
      "text/plain": [
       "   PassengerId  Survived  Pclass  \\\n",
       "0            1         0       3   \n",
       "1            2         1       1   \n",
       "2            3         1       3   \n",
       "3            4         1       1   \n",
       "4            5         0       3   \n",
       "\n",
       "                                                Name     Sex   Age  SibSp  \\\n",
       "0                            Braund, Mr. Owen Harris    male  22.0      1   \n",
       "1  Cumings, Mrs. John Bradley (Florence Briggs Th...  female  38.0      1   \n",
       "2                             Heikkinen, Miss. Laina  female  26.0      0   \n",
       "3       Futrelle, Mrs. Jacques Heath (Lily May Peel)  female  35.0      1   \n",
       "4                           Allen, Mr. William Henry    male  35.0      0   \n",
       "\n",
       "   Parch            Ticket     Fare Cabin Embarked  \n",
       "0      0         A/5 21171   7.2500   NaN        S  \n",
       "1      0          PC 17599  71.2833   C85        C  \n",
       "2      0  STON/O2. 3101282   7.9250   NaN        S  \n",
       "3      0            113803  53.1000  C123        S  \n",
       "4      0            373450   8.0500   NaN        S  "
      ]
     },
     "execution_count": 164,
     "metadata": {},
     "output_type": "execute_result"
    }
   ],
   "source": [
    "df=pd.read_csv(\"titanic.csv\")\n",
    "df.head()"
   ]
  },
  {
   "cell_type": "code",
   "execution_count": 165,
   "id": "aad9a7d3-4b7b-4e45-886a-cb88d63f9b54",
   "metadata": {},
   "outputs": [
    {
     "name": "stdout",
     "output_type": "stream",
     "text": [
      "Index(['PassengerId', 'Survived', 'Pclass', 'Name', 'Sex', 'Age', 'SibSp',\n",
      "       'Parch', 'Ticket', 'Fare', 'Cabin', 'Embarked'],\n",
      "      dtype='object')\n"
     ]
    }
   ],
   "source": [
    "print(df.columns)"
   ]
  },
  {
   "cell_type": "code",
   "execution_count": 166,
   "id": "c7ac730a-64e3-4cde-b018-0b1390c821de",
   "metadata": {},
   "outputs": [],
   "source": [
    "df=df.drop('PassengerId', axis=1)\n",
    "df=df.drop('Name', axis=1)\n",
    "df=df.drop('Fare', axis=1)\n",
    "df=df.drop('Ticket', axis=1)\n",
    "df=df.drop('Cabin', axis=1)"
   ]
  },
  {
   "cell_type": "code",
   "execution_count": 167,
   "id": "3703f5be-8210-45ad-b7bd-3ab58f5549ca",
   "metadata": {},
   "outputs": [
    {
     "name": "stdout",
     "output_type": "stream",
     "text": [
      "Index(['Survived', 'Pclass', 'Sex', 'Age', 'SibSp', 'Parch', 'Embarked'], dtype='object')\n"
     ]
    }
   ],
   "source": [
    "print(df.columns)"
   ]
  },
  {
   "cell_type": "code",
   "execution_count": 168,
   "id": "e2fddc10-8cfa-4eb3-aa58-9ae042bca51a",
   "metadata": {},
   "outputs": [
    {
     "data": {
      "text/plain": [
       "Survived      0\n",
       "Pclass        0\n",
       "Sex           0\n",
       "Age         177\n",
       "SibSp         0\n",
       "Parch         0\n",
       "Embarked      2\n",
       "dtype: int64"
      ]
     },
     "execution_count": 168,
     "metadata": {},
     "output_type": "execute_result"
    }
   ],
   "source": [
    "df.isnull().sum()"
   ]
  },
  {
   "cell_type": "code",
   "execution_count": 169,
   "id": "3291b48d-c909-468e-8482-99a0fcf3845b",
   "metadata": {},
   "outputs": [],
   "source": [
    "df['Sex'] = df['Sex'].map({'male': 1, 'female': 0})\n",
    "df['Embarked'] = df['Embarked'].fillna(0)\n",
    "df=pd.get_dummies(df, columns=['Embarked'],drop_first=False)\n",
    "df['Age'] = df['Age'].fillna(df['Age'].median())"
   ]
  },
  {
   "cell_type": "code",
   "execution_count": 170,
   "id": "bb5edb2e-f418-4ae8-97e1-34745c121eee",
   "metadata": {},
   "outputs": [],
   "source": [
    "scaler=StandardScaler()\n",
    "x=df[['Pclass', 'Sex', 'Age', 'SibSp', 'Parch', 'Embarked_S', 'Embarked_C', 'Embarked_Q']]\n",
    "y=df['Survived']\n",
    "x=scaler.fit_transform(x)"
   ]
  },
  {
   "cell_type": "code",
   "execution_count": 171,
   "id": "3633d534-4a55-4d1a-b391-247dd0db4af6",
   "metadata": {},
   "outputs": [],
   "source": [
    "features=['Pclass', 'Sex', 'Age', 'SibSp', 'Parch', 'Embarked_S', 'Embarked_C', 'Embarked_Q']"
   ]
  },
  {
   "cell_type": "code",
   "execution_count": 172,
   "id": "0e1c365b-d396-4b9a-97c5-87a7f6a57768",
   "metadata": {},
   "outputs": [],
   "source": [
    "x_train, x_test, y_train, y_test=train_test_split(x, y, test_size=0.2, random_state=42)"
   ]
  },
  {
   "cell_type": "markdown",
   "id": "b325046b-5696-4266-b34f-dc9f7d8487bc",
   "metadata": {},
   "source": [
    "Logistic Regression"
   ]
  },
  {
   "cell_type": "code",
   "execution_count": 173,
   "id": "f167d181-d9fe-4f4e-b6e0-5c5aaca4a54b",
   "metadata": {},
   "outputs": [
    {
     "name": "stdout",
     "output_type": "stream",
     "text": [
      "              precision    recall  f1-score   support\n",
      "\n",
      "           0       0.82      0.85      0.84       105\n",
      "           1       0.77      0.74      0.76        74\n",
      "\n",
      "    accuracy                           0.80       179\n",
      "   macro avg       0.80      0.80      0.80       179\n",
      "weighted avg       0.80      0.80      0.80       179\n",
      "\n"
     ]
    }
   ],
   "source": [
    "lgr=LogisticRegression(max_iter=1000)\n",
    "lgr.fit(x_train, y_train)\n",
    "\n",
    "lgr_pred=lgr.predict(x_test)\n",
    "\n",
    "lgr_report=classification_report(y_test, lgr_pred)\n",
    "print(lgr_report)"
   ]
  },
  {
   "cell_type": "code",
   "execution_count": 188,
   "id": "9e1e2237-9a52-4c44-8549-c1489d153dfc",
   "metadata": {},
   "outputs": [
    {
     "name": "stdout",
     "output_type": "stream",
     "text": [
      "Pclass :-0.86\n",
      "Sex :-1.28\n",
      "Age :-0.40\n",
      "SibSp :-0.31\n",
      "Parch :-0.07\n",
      "Embarked_S :-0.27\n",
      "Embarked_C :-0.04\n",
      "Embarked_Q :-0.09\n"
     ]
    }
   ],
   "source": [
    "for i, feature in enumerate(features):\n",
    "    lgr_coef=lgr.coef_\n",
    "    print(f'{feature} :{lgr_coef[0][i]:.2f}')"
   ]
  },
  {
   "cell_type": "code",
   "execution_count": 201,
   "id": "42438ee8-15b3-4cd4-9204-f15bd3309cd6",
   "metadata": {},
   "outputs": [
    {
     "name": "stdout",
     "output_type": "stream",
     "text": [
      "The negative impacts are\n",
      "- being male\n",
      "- older\n",
      "- traveling in lower-class cabins\n",
      "- having more siblings/spouses or parents/children aboard\n",
      "- embarking from Southampton\n"
     ]
    }
   ],
   "source": [
    "negative_impacts = [\n",
    "    \"being male\",\n",
    "    \"older\",\n",
    "    \"traveling in lower-class cabins\",\n",
    "    \"having more siblings/spouses or parents/children aboard\",\n",
    "    \"embarking from Southampton\"\n",
    "]\n",
    "\n",
    "print(\"The negative impacts are\")\n",
    "for impact in negative_impacts:\n",
    "    print(f\"- {impact}\")"
   ]
  },
  {
   "cell_type": "markdown",
   "id": "a05e7093-9967-4d45-a020-8f6aa2158bed",
   "metadata": {},
   "source": [
    "Decision Tree"
   ]
  },
  {
   "cell_type": "code",
   "execution_count": 178,
   "id": "d3c476a4-6fa0-49ca-884a-6a1e8c5e5388",
   "metadata": {},
   "outputs": [
    {
     "name": "stdout",
     "output_type": "stream",
     "text": [
      "              precision    recall  f1-score   support\n",
      "\n",
      "           0       0.79      0.85      0.82       105\n",
      "           1       0.76      0.69      0.72        74\n",
      "\n",
      "    accuracy                           0.78       179\n",
      "   macro avg       0.78      0.77      0.77       179\n",
      "weighted avg       0.78      0.78      0.78       179\n",
      "\n"
     ]
    }
   ],
   "source": [
    "dt=DecisionTreeClassifier()\n",
    "dt.fit(x_train, y_train)\n",
    "\n",
    "dt_pred=dt.predict(x_test)\n",
    "\n",
    "dt_report=classification_report(y_test, dt_pred)\n",
    "print(dt_report)"
   ]
  },
  {
   "cell_type": "code",
   "execution_count": 187,
   "id": "5ac0ad1e-03e1-44db-87f4-2116b7edf06f",
   "metadata": {},
   "outputs": [
    {
     "name": "stdout",
     "output_type": "stream",
     "text": [
      "Pclass : 0.13\n",
      "Sex : 0.36\n",
      "Age : 0.32\n",
      "SibSp : 0.09\n",
      "Parch : 0.04\n",
      "Embarked_S : 0.04\n",
      "Embarked_C : 0.02\n",
      "Embarked_Q : 0.01\n"
     ]
    }
   ],
   "source": [
    "for i, feature in enumerate(features):\n",
    "    dt_importance = dt.feature_importances_[i]\n",
    "    print(f'{feature} : {dt_importance:.2f}')"
   ]
  },
  {
   "cell_type": "code",
   "execution_count": 202,
   "id": "c34f3315-af1e-460b-9224-6562093569fc",
   "metadata": {},
   "outputs": [
    {
     "name": "stdout",
     "output_type": "stream",
     "text": [
      "The positive impacts on survival are\n",
      "- being female\n",
      "- younger\n",
      "- traveling in higher-class cabins\n",
      "- having fewer siblings/spouses or parents/children aboard\n",
      "- embarking from Cherbourg or Queenstown\n"
     ]
    }
   ],
   "source": [
    "positive_impacts = [\n",
    "    \"being female\",\n",
    "    \"younger\",\n",
    "    \"traveling in higher-class cabins\",\n",
    "    \"having fewer siblings/spouses or parents/children aboard\",\n",
    "    \"embarking from Cherbourg or Queenstown\"\n",
    "]\n",
    "\n",
    "print(\"The positive impacts on survival are\")\n",
    "for impact in positive_impacts:\n",
    "    print(f\"- {impact}\")"
   ]
  },
  {
   "cell_type": "code",
   "execution_count": 180,
   "id": "a6a27486-1aee-4351-b48e-607233b85998",
   "metadata": {},
   "outputs": [
    {
     "name": "stdout",
     "output_type": "stream",
     "text": [
      "              precision    recall  f1-score   support\n",
      "\n",
      "           0       0.80      0.84      0.82       105\n",
      "           1       0.75      0.70      0.73        74\n",
      "\n",
      "    accuracy                           0.78       179\n",
      "   macro avg       0.78      0.77      0.77       179\n",
      "weighted avg       0.78      0.78      0.78       179\n",
      "\n"
     ]
    }
   ],
   "source": [
    "svm=SVC(kernel='linear')\n",
    "\n",
    "svm.fit(x_train, y_train)\n",
    "svm_pred=svm.predict(x_test)\n",
    "\n",
    "svm_report=classification_report(y_test, svm_pred)\n",
    "print(svm_report)"
   ]
  },
  {
   "cell_type": "code",
   "execution_count": 192,
   "id": "75b10fed-441e-4732-ba96-1e8e8d9c3b12",
   "metadata": {},
   "outputs": [
    {
     "name": "stdout",
     "output_type": "stream",
     "text": [
      "Pclass: -0.00\n",
      "Sex: -0.96\n",
      "Age: -0.00\n",
      "SibSp: -0.00\n",
      "Parch: -0.00\n",
      "Embarked_S: -0.00\n",
      "Embarked_C: 0.00\n",
      "Embarked_Q: -0.00\n"
     ]
    }
   ],
   "source": [
    "for i, feature in enumerate(features):\n",
    "    svm_coeff=svm.coef_\n",
    "    print(f\"{feature}: {svm_coeff[0][i]:.2f}\")"
   ]
  },
  {
   "cell_type": "code",
   "execution_count": 204,
   "id": "79d80354-cb07-4c3e-a27b-07d0b8286ab6",
   "metadata": {},
   "outputs": [
    {
     "name": "stdout",
     "output_type": "stream",
     "text": [
      "The negative impacts are:\n",
      "- being male\n",
      "- other features have minimal effect\n"
     ]
    }
   ],
   "source": [
    "negative_impacts = [\n",
    "    \"being male\",\n",
    "    \"other features have minimal effect\"\n",
    "]\n",
    "\n",
    "print(\"The negative impacts are:\")\n",
    "for impact in negative_impacts:\n",
    "    print(f\"- {impact}\")"
   ]
  },
  {
   "cell_type": "code",
   "execution_count": null,
   "id": "5792302e-f61d-4de3-887f-e61fa2c28d26",
   "metadata": {},
   "outputs": [],
   "source": []
  }
 ],
 "metadata": {
  "kernelspec": {
   "display_name": "Python 3 (ipykernel)",
   "language": "python",
   "name": "python3"
  },
  "language_info": {
   "codemirror_mode": {
    "name": "ipython",
    "version": 3
   },
   "file_extension": ".py",
   "mimetype": "text/x-python",
   "name": "python",
   "nbconvert_exporter": "python",
   "pygments_lexer": "ipython3",
   "version": "3.13.5"
  }
 },
 "nbformat": 4,
 "nbformat_minor": 5
}
